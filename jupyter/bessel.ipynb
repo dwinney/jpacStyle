{
 "cells": [
  {
   "cell_type": "code",
   "execution_count": 1,
   "metadata": {},
   "outputs": [],
   "source": [
    "#pragma cling add_library_path(\"../build/\")\n",
    "#pragma cling add_include_path(\"../include/\")\n",
    "#pragma cling load(\"JpacStyle\")"
   ]
  },
  {
   "cell_type": "code",
   "execution_count": 10,
   "metadata": {},
   "outputs": [],
   "source": [
    "#include \"jpacGraph1D.hpp\"\n",
    "\n",
    "#include \"Math/SpecFuncMathMore.h\"\n",
    "#include \"TMath.h\""
   ]
  },
  {
   "cell_type": "code",
   "execution_count": 11,
   "metadata": {},
   "outputs": [],
   "source": [
    "int alpha = 1;\n",
    "\n",
    "auto F = [&](double x)\n",
    "{\n",
    "    return ROOT::Math::cyl_bessel_j(alpha, x);\n",
    "};"
   ]
  },
  {
   "cell_type": "code",
   "execution_count": 4,
   "metadata": {},
   "outputs": [
    {
     "name": "stdout",
     "output_type": "stream",
     "text": [
      "0              0.001          0.0005         \n",
      "1              0.40098        0.196487       \n",
      "2              0.80096        0.369212       \n",
      "3              1.20094        0.498529       \n",
      "4              1.60092        0.569987       \n",
      "5              2.0009         0.576667       \n",
      "6              2.40088        0.519997       \n",
      "7              2.80086        0.409424       \n",
      "8              3.20084        0.261006       \n",
      "9              3.60082        0.0951226      \n",
      "10             4.0008         -0.0663478     \n",
      "11             4.40078        -0.203006      \n",
      "12             4.80076        -0.298635      \n",
      "13             5.20074        -0.343256      \n",
      "14             5.60072        -0.33427       \n",
      "15             6.0007         -0.276546      \n",
      "16             6.40068        -0.181453      \n",
      "17             6.80066        -0.0650189     \n",
      "18             7.20064        0.0545114      \n",
      "19             7.60062        0.159357       \n",
      "20             8.0006         0.234722       \n",
      "21             8.40058        0.270808       \n",
      "22             8.80056        0.264035       \n",
      "23             9.20054        0.217322       \n",
      "24             9.60052        0.139409       \n",
      "25             10.0005        0.0433476      \n",
      "26             10.4005        -0.055587      \n",
      "27             10.8005        -0.142254      \n",
      "28             11.2004        -0.203904      \n",
      "29             11.6004        -0.232011      \n",
      "30             12.0004        -0.223421      \n",
      "31             12.4004        -0.180655      \n",
      "32             12.8004        -0.11136       \n",
      "33             13.2003        -0.0269923     \n",
      "34             13.6003        0.0590304      \n",
      "35             14.0003        0.133424       \n",
      "36             14.4003        0.185058       \n",
      "37             14.8003        0.206599       \n",
      "38             15.2002        0.195529       \n",
      "39             15.6002        0.15441        \n",
      "40             16.0002        0.0903611      \n",
      "41             16.4002        0.0138593      \n",
      "42             16.8002        -0.0629524     \n",
      "43             17.2001        -0.128169      \n",
      "44             17.6001        -0.171952      \n",
      "45             18.0001        -0.187995      \n",
      "46             18.4001        -0.174423      \n",
      "47             18.8001        -0.133982      \n",
      "48             19.2           -0.0735223     \n",
      "49             19.6           -0.00285297    \n",
      "50             20             0.0668331      \n"
     ]
    }
   ],
   "source": [
    "int N = 50;\n",
    "double min = 1.E-3,  max = 20.;\n",
    "\n",
    "std::array<std::vector<double>, 2> x_fx = vec_fill(N, F, min, max, false);"
   ]
  },
  {
   "cell_type": "code",
   "execution_count": 5,
   "metadata": {},
   "outputs": [],
   "source": [
    "jpacGraph1D* plotter = new jpacGraph1D(x_fx[0], x_fx[1], \"#alpha=1\");"
   ]
  },
  {
   "cell_type": "code",
   "execution_count": 13,
   "metadata": {},
   "outputs": [
    {
     "data": {
      "image/png": "[encoded data removed]",
      "text/plain": [
       "<IPython.core.display.Image object>"
      ]
     },
     "metadata": {},
     "output_type": "display_data"
    }
   ],
   "source": [
    "plotter->SetXaxis(\"x\", 0., 20.);\n",
    "plotter->SetYaxis(\"J_{#alpha}(x)\");\n",
    "plotter->SetLegend(0.45, 0.70);\n",
    "plotter->Draw();"
   ]
  },
  {
   "cell_type": "code",
   "execution_count": null,
   "metadata": {},
   "outputs": [],
   "source": []
  }
 ],
 "metadata": {
  "kernelspec": {
   "display_name": "ROOT C++",
   "language": "c++",
   "name": "root"
  },
  "language_info": {
   "codemirror_mode": "text/x-c++src",
   "file_extension": ".C",
   "mimetype": " text/x-c++src",
   "name": "c++"
  }
 },
 "nbformat": 4,
 "nbformat_minor": 4
}
